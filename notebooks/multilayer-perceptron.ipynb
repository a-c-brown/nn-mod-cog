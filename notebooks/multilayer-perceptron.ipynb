{
 "cells": [
  {
   "cell_type": "markdown",
   "metadata": {},
   "source": [
    "# The Multilayer-Perceptron"
   ]
  },
  {
   "cell_type": "markdown",
   "metadata": {},
   "source": [
    "The Perceptron and Adaline algorithms are characterized by generating a **direct mapping between input and output patterns**. Such characteristic is a direct result of their **single-layer architecture**. With one layer, there is no place to create **intermediate representations** of the inputs before mapping into the outputs. The idea of generating internal representations of the entities from the outside world is a core notion in cognitive science. It is what differentiates cognitive science from old-school behaviorism: the mind and the brain must do some form of internal processing and reorganization of the information obtained from the environment, that allows things like reasoning, lenaguage, and complex thinking and behavior more generally. Hence, it is just logical that a single-layer Perceptron or Adaline could not recreate many human cognitive capacities. As a matter of fact, Marvin Minsky and Seymour Papert devoted an entire book (‘Perceptrons’, 1969) to show the many limitations of Perceptrons as learning algorithms.  One of the classical examples of the limitations of the Perceptron and Adaline is the **exclusive-or (XOR) problem** illustrated in the table below: "
   ]
  },
  {
   "cell_type": "markdown",
   "metadata": {},
   "source": [
    "<center>Table 1</center>\n",
    "\n",
    "| Input patterns | -> | Output Patterns |\n",
    "|----------------|----|-----------------|\n",
    "| 00             | -> | 0               |\n",
    "| 01             | -> | 1               |\n",
    "| 10             | -> | 1               |\n",
    "| 11             | -> | 0               |"
   ]
  },
  {
   "cell_type": "markdown",
   "metadata": {},
   "source": [
    "The XOR problem seems to be a trivially easy problem to solve for humans: when the input patterns are the same, output 1; when they are different, output 0. There is a simple graphical way to show why a Perceptron can’t learn to solve such a simple problem as showed in the Figure below."
   ]
  },
  {
   "cell_type": "code",
   "execution_count": 4,
   "metadata": {},
   "outputs": [
    {
     "data": {
      "image/png": "[encoded data removed]",
      "text/plain": [
       "<IPython.core.display.Image object>"
      ]
     },
     "metadata": {},
     "output_type": "display_data"
    }
   ],
   "source": [
    "from IPython.display import Image\n",
    "i = Image(filename='../figures/images/XOR_linear.png')\n",
    "display(i)"
   ]
  },
  {
   "cell_type": "markdown",
   "metadata": {},
   "source": [
    "The X and Y axis reflect the combination of binary features in the XOR problem (0 or 1). When X = Y = 0, the output is 0, when X = 1 and Y = 0, the output is 1, and so forth. The dashed orange line represents the decision boundary created by the Perceptron. As you can see, there is no way to create a decision boundary capable of classifying all the instances correctly (you can keep trying all possible straight lines, and won't work). There are two possible approaches to takle this issue: (1) **changing the representation of the problem**, this is to say, generating some sort of transformation of the inputs into a space that is linearly separable, or (2) using a model that is not restricted to linear decision boundaries, i.e., **allowing for non-linearities in the model**. \n",
    "\n",
    "Since changing the representation of a problem involves some form of transformation of the inputs, an intuitive first step may be just to modify the input features by hand. For instance, we could try a coding scheme like the one in **Table 2**. In such case, we are adding a third dimension that actually allows to separate the the '1' and '0' with a plane (linear model). Yet, this seems to be a very unsatisfactory solution since requires **hand-crafting features** which **doesn't not generalize** well beyond toy problems. "
   ]
  },
  {
   "cell_type": "markdown",
   "metadata": {},
   "source": [
    "<center>Table 2</center>\n",
    "\n",
    "| Input patterns  | -> | Output Patterns |\n",
    "|-----------------|----|-----------------|\n",
    "| 000             | -> | 0               |\n",
    "| 010             | -> | 1               |\n",
    "| 100             | -> | 1               |\n",
    "| 111             | -> | 0               |"
   ]
  },
  {
   "cell_type": "markdown",
   "metadata": {},
   "source": [
    "A second idea may be just adding more layers to the Perceptron. Unfortunately, **no matter how many layers we add, the output of a linear model, is a linear decision boundary**. Therefore, that is not a viable solution. A combination of adding more layers and allowing for non-linearities in the model seems to be the way to go, and that was precisely what Rumelhart, Hinton and Williams did in 1985."
   ]
  },
  {
   "cell_type": "markdown",
   "metadata": {},
   "source": [
    "## A new generation of artificial neural networks"
   ]
  },
  {
   "cell_type": "code",
   "execution_count": null,
   "metadata": {},
   "outputs": [],
   "source": [
    "# TODO: expand on Rumelhart, Hinton, and Williams"
   ]
  },
  {
   "cell_type": "markdown",
   "metadata": {},
   "source": [
    "## Formal definition of the multilayer perceptron with non-linear units"
   ]
  },
  {
   "cell_type": "code",
   "execution_count": null,
   "metadata": {},
   "outputs": [],
   "source": [
    "#TODO"
   ]
  },
  {
   "cell_type": "markdown",
   "metadata": {},
   "source": [
    "## Learning algorithm"
   ]
  },
  {
   "cell_type": "code",
   "execution_count": 6,
   "metadata": {},
   "outputs": [],
   "source": [
    "# TODO"
   ]
  },
  {
   "cell_type": "markdown",
   "metadata": {},
   "source": [
    "## Multilayer perceptron implementation"
   ]
  },
  {
   "cell_type": "code",
   "execution_count": null,
   "metadata": {},
   "outputs": [],
   "source": [
    "# TODO: \n",
    "# - create a function to generate training data for XOR problem\n",
    "# - plot the training data\n",
    "# - set up keras model \n",
    "# - train and test keras model\n",
    "# - compute metrics"
   ]
  },
  {
   "cell_type": "code",
   "execution_count": 5,
   "metadata": {},
   "outputs": [],
   "source": [
    "import numpy as np"
   ]
  },
  {
   "cell_type": "code",
   "execution_count": 6,
   "metadata": {},
   "outputs": [],
   "source": [
    "# Define function to create figures type\n",
    "def figure_type(mu1, sigma1, mu2, sigma2, n_samples, target, seed):\n",
    "    '''creates [n_sampes, 2] array\n",
    "    \n",
    "    Parameters\n",
    "    ----------\n",
    "    mu1, sigma1: int, shape = [n_samples, 2]\n",
    "        mean feature-1, standar-dev feature-1\n",
    "    mu2, sigma2: int, shape = [n_samples, 2]\n",
    "        mean feature-2, standar-dev feature-2\n",
    "    n_samples: int, shape= [n_samples, 1]\n",
    "        number of sample cases\n",
    "    target: int, shape = [1]\n",
    "        target value\n",
    "    seed: int\n",
    "        random seed for reproducibility\n",
    "    \n",
    "    Return\n",
    "    ------\n",
    "    X: ndim-array, shape = [n_samples, 2]\n",
    "        matrix of feature vectors\n",
    "    y: 1d-vector, shape = [n_samples, 1]\n",
    "        target vector\n",
    "    ------\n",
    "    X'''\n",
    "    rand = np.random.RandomState(seed)\n",
    "    f1 = rand.normal(mu1, sigma1, n_samples)\n",
    "    f2 = rand.normal(mu2, sigma2, n_samples)\n",
    "    X = np.array([f1, f2])\n",
    "    X = X.transpose()\n",
    "    y = np.full((n_samples), target)\n",
    "    return X, y"
   ]
  },
  {
   "cell_type": "code",
   "execution_count": 7,
   "metadata": {},
   "outputs": [
    {
     "name": "stdout",
     "output_type": "stream",
     "text": [
      "Feature matrix shape: (100, 2) \n",
      "target vector shape: (100,)\n",
      "Feature matrix: \n",
      "[[13.24869073  4.55287144]\n",
      " [ 8.77648717  6.2245077 ]\n",
      " [ 8.9436565   5.40349164]\n",
      " [ 7.85406276  5.59357852]] \n",
      "target vector: \n",
      "[1 1 1 1]\n"
     ]
    }
   ],
   "source": [
    "# create tall-figures matrix\n",
    "T, y_t = figure_type(10, 2, 5, 1, 100, 1, 1)\n",
    "nl = '\\n'\n",
    "print(f'Feature matrix shape: {T.shape} {nl}target vector shape: {y_t.shape}')\n",
    "print(f'Feature matrix: {nl}{T[0:4, :]} {nl}target vector: {nl}{y_t[0:4]}')"
   ]
  },
  {
   "cell_type": "code",
   "execution_count": 8,
   "metadata": {},
   "outputs": [
    {
     "name": "stdout",
     "output_type": "stream",
     "text": [
      "Feature matrix shape: (100, 2) \n",
      "target vector shape: (100,)\n",
      "Feature matrix: \n",
      "[[ 4.58324215 12.32304298]\n",
      " [ 4.94373317 10.7721561 ]\n",
      " [ 2.8638039   7.73373345]\n",
      " [ 6.64027081 10.86618511]] \n",
      "target vector: \n",
      "[-1 -1 -1 -1]\n"
     ]
    }
   ],
   "source": [
    "# create wide-figures matrix\n",
    "W, y_w = figure_type(5, 1, 10, 2, 100, -1, 2)\n",
    "nl = '\\n'\n",
    "print(f'Feature matrix shape: {W.shape} {nl}target vector shape: {y_w.shape}')\n",
    "print(f'Feature matrix: {nl}{W[0:4, :]} {nl}target vector: {nl}{y_w[0:4]}')"
   ]
  },
  {
   "cell_type": "code",
   "execution_count": 10,
   "metadata": {},
   "outputs": [
    {
     "data": {
      "image/png": "[encoded data removed]",
      "text/plain": [
       "<Figure size 432x288 with 1 Axes>"
      ]
     },
     "metadata": {
      "needs_background": "light"
     },
     "output_type": "display_data"
    }
   ],
   "source": [
    "import matplotlib.pyplot as plt\n",
    "plt.scatter(T[:, 1], T[:, 0], color='red', marker='o', label='tall-figures')\n",
    "plt.scatter(W[:, 1], W[:, 0], color='blue', marker='x', label='wide-figures')\n",
    "plt.xlabel('width')\n",
    "plt.ylabel('height')\n",
    "plt.legend(loc='upper right')\n",
    "plt.show()"
   ]
  },
  {
   "cell_type": "code",
   "execution_count": 11,
   "metadata": {},
   "outputs": [],
   "source": [
    "from sklearn.model_selection import train_test_split\n",
    "\n",
    "X = np.concatenate((T, W), axis=0)\n",
    "y = np.concatenate((y_t, y_w), axis=0)\n",
    "\n",
    "X_train, X_test, y_train, y_test = train_test_split(X, y, \n",
    "                                                    test_size=0.3,\n",
    "                                                    random_state=1,\n",
    "                                                    shuffle=True)"
   ]
  },
  {
   "cell_type": "code",
   "execution_count": 12,
   "metadata": {},
   "outputs": [
    {
     "name": "stdout",
     "output_type": "stream",
     "text": [
      "X_train.shape: (140, 2)\n",
      "y_train.shape: (140,)\n",
      "X_test.shape: (60, 2)\n",
      "y_test.shape: (60,)\n"
     ]
    }
   ],
   "source": [
    "print(f'X_train.shape: {X_train.shape}')\n",
    "print(f'y_train.shape: {y_train.shape}')\n",
    "print(f'X_test.shape: {X_test.shape}')\n",
    "print(f'y_test.shape: {y_test.shape}')"
   ]
  },
  {
   "cell_type": "code",
   "execution_count": 13,
   "metadata": {},
   "outputs": [],
   "source": [
    "from keras.models import Sequential\n",
    "model = Sequential()\n",
    "model.add(Dense(2, input_dim=2, kernel_initializer='random_uniform'))\n",
    "model.add(Dense(2, kernel_initializer='random_uniform'))\n",
    "model.add(Activation('relu')) # create custom activation function here"
   ]
  },
  {
   "cell_type": "code",
   "execution_count": 2,
   "metadata": {},
   "outputs": [
    {
     "name": "stderr",
     "output_type": "stream",
     "text": [
      "Using TensorFlow backend.\n"
     ]
    }
   ],
   "source": [
    "model.compile(optimizer='rmsprop',\n",
    "              loss='binary_crossentropy',\n",
    "              metrics=['accuracy'])"
   ]
  }
 ],
 "metadata": {
  "kernelspec": {
   "display_name": "Python 3",
   "language": "python",
   "name": "python3"
  },
  "language_info": {
   "codemirror_mode": {
    "name": "ipython",
    "version": 3
   },
   "file_extension": ".py",
   "mimetype": "text/x-python",
   "name": "python",
   "nbconvert_exporter": "python",
   "pygments_lexer": "ipython3",
   "version": "3.6.9"
  }
 },
 "nbformat": 4,
 "nbformat_minor": 2
}
